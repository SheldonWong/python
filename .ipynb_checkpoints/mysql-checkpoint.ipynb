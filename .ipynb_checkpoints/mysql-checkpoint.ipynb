{
 "cells": [
  {
   "cell_type": "markdown",
   "metadata": {},
   "source": [
    "# Python连接MySQL，使用pymysql\n",
    "- 安装pymysql\n",
    "    -https://pymysql.readthedocs.io/en/latest/\n",
    "- 创建测试数据库\n",
    "    - 参考：http://blog.51cto.com/dnsliu/1349688\n",
    "    - 参考：https://blog.csdn.net/u010472499/article/details/78208476\n",
    "- 连接mysql，获取连接和游标\n",
    "- 使用游标cursor的execute()方法向数据库发送sql语句\n",
    "- 执行sql\n",
    "    - 增：构造sql，使用游标的execute方法执行sql，提交事务\n",
    "    - 删：构造sql，使用游标的execute方法执行sql，提交事务\n",
    "    - 查：构造sql，使用游标的execute方法执行sql，fetchone,fetchmany,fetchall获取查询结果，提交事务\n",
    "    - 改：构造sql，使用游标的execute方法执行sql，提交事务\n",
    "\n",
    "## 0. 重要方法介绍\n",
    "\n",
    "### 0.0 Connection对象-与MySQL的连接\n",
    "表示一个和mysql server的socket，获取Connection实例的正确方法是调用connect()方法\n",
    "```python\n",
    "class pymysql.connections.Connection(host=None, user=None, password='', database=None, port=0, unix_socket=None, charset='', sql_mode=None, read_default_file=None, conv=None, use_unicode=None, client_flag=0, cursorclass=<class 'pymysql.cursors.Cursor'>, init_command=None, connect_timeout=10, ssl=None, read_default_group=None, compress=None, named_pipe=None, autocommit=False, db=None, passwd=None, local_infile=False, max_allowed_packet=16777216, defer_connect=False, auth_plugin_map=None, read_timeout=None, write_timeout=None, bind_address=None, binary_prefix=False, program_name=None, server_public_key=None)\n",
    "```\n",
    "- cursor()\n",
    "\n",
    "cursor(cursor=None)\n",
    "Create a new cursor to execute queries with.\n",
    "\n",
    "Parameters:\tcursor – The type of cursor to create; one of Cursor, SSCursor, DictCursor, or SSDictCursor. None means use Curs\n",
    "- commit()\n",
    "\n",
    "commit()\n",
    "Commit changes to stable storage.\n",
    "\n",
    "See Connection.commit() in the specification.\n",
    "\n",
    "\n",
    "### 0.1 Cursor对象-与MySQL交互的对象：\n",
    "这是与数据库交互的对象，不要使用Curosr的构造方法创建cursor，最好通过调用connections.Connection.cursor()来创建cursor\n",
    "\n",
    "- execute方法\n",
    "execute(query, args=None)\n",
    "Execute a query\n",
    "\n",
    "Parameters:\t\n",
    "query (str) – Query to execute.\n",
    "args (tuple, list or dict) – parameters used with query. (optional)\n",
    "Returns:\t\n",
    "Number of affected rows\n",
    "\n",
    "Return type:\t\n",
    "int\n",
    "\n",
    "If args is a list or tuple, %s can be used as a placeholder in the query. If args is a dict, %(name)s can be used as a placeholder in the query.\n",
    "\n",
    "## 补充：事务\n",
    "参考：http://www.runoob.com/mysql/mysql-transaction.html\n",
    "参考：https://blog.csdn.net/xiaotom5/article/details/8133067\n",
    "rollback，回滚，就是数据库做修改后（update，insert，delete）未commit之前，使用rollback，可以恢复到数据库修改之前。\n",
    "\n",
    "## 1. 工作流程\n",
    "1. 调用pymysql.connection()获取连接(参数方式，字典方式)\n",
    "2. 调用connections.Connection.cursor()获取游标(with自动关闭，否则需要手动关闭)\n",
    "3. 构造带参数的sql\n",
    "4. 调用cursor.execute方法与数据库交互\n",
    "5. 调用conn.commit方法提交\n",
    "6. 关闭连接conn.close()"
   ]
  },
  {
   "cell_type": "markdown",
   "metadata": {},
   "source": [
    "## 1.连接数据库\n",
    "### 1.1 参数方式连接"
   ]
  },
  {
   "cell_type": "code",
   "execution_count": 1,
   "metadata": {},
   "outputs": [],
   "source": [
    "import pymysql\n",
    "\n",
    "conn = pymysql.connect(host='localhost',user='root',password='',db='',port=3306,charset='utf8')\n",
    "#print(pymysql.connections.Connection.__doc__)\n",
    "cur = conn.cursor()\n",
    "#print(cur.__doc__)\n"
   ]
  },
  {
   "cell_type": "markdown",
   "metadata": {},
   "source": [
    "### 1.2 字典方式连接"
   ]
  },
  {
   "cell_type": "code",
   "execution_count": 42,
   "metadata": {},
   "outputs": [
    {
     "name": "stdout",
     "output_type": "stream",
     "text": [
      "<pymysql.connections.Connection object at 0x102721b00>\n"
     ]
    }
   ],
   "source": [
    "import pymysql.cursors\n",
    " \n",
    "config = {\n",
    "          'host':'127.0.0.1',\n",
    "          'port':3306,\n",
    "          'user':'root',\n",
    "          'password':'',\n",
    "          'db':'employees',\n",
    "          'charset':'utf8',\n",
    "          'cursorclass':pymysql.cursors.DictCursor,\n",
    "          }\n",
    " \n",
    "# Connect to the database\n",
    "conn = pymysql.connect(**config)\n",
    "print(conn)"
   ]
  },
  {
   "cell_type": "markdown",
   "metadata": {},
   "source": [
    "## 2. 获取游标与增加记录\n",
    "\n"
   ]
  },
  {
   "cell_type": "code",
   "execution_count": 43,
   "metadata": {},
   "outputs": [
    {
     "name": "stdout",
     "output_type": "stream",
     "text": [
      "INSERT INTO employees (emp_no,first_name, last_name, hire_date, gender, birth_date) VALUES (%s,%s, %s, %s, %s, %s)\n"
     ]
    }
   ],
   "source": [
    "from datetime import date, datetime, timedelta\n",
    "import pymysql.cursors\n",
    " \n",
    "config = {\n",
    "          'host':'127.0.0.1',\n",
    "          'port':3306,\n",
    "          'user':'root',\n",
    "          'password':'',\n",
    "          'db':'employees',\n",
    "          'charset':'utf8',\n",
    "          'cursorclass':pymysql.cursors.DictCursor,\n",
    "          }\n",
    " \n",
    "# Connect to the database\n",
    "conn = pymysql.connect(**config)\n",
    "# 获取明天的时间\n",
    "tomorrow = datetime.now().date() + timedelta(days=1)\n",
    " \n",
    "# 执行sql语句\n",
    "try:\n",
    "    with conn.cursor() as cursor:\n",
    "        # 执行sql语句，插入记录\n",
    "        sql = 'INSERT INTO employees (emp_no,first_name, last_name, hire_date, gender, birth_date) VALUES (%s,%s, %s, %s, %s, %s)'\n",
    "        print(sql)\n",
    "        t =  (1001,'Sheldon', 'Wang', tomorrow, 'M', date(1992, 6, 28))\n",
    "        cursor.execute(sql,t);\n",
    "    # 使用连接提交，没有设置默认自动提交，需要主动提交，以保存所执行的语句\n",
    "    conn.commit()\n",
    " \n",
    "finally:\n",
    "    conn.close();"
   ]
  },
  {
   "cell_type": "markdown",
   "metadata": {},
   "source": [
    "## 3.获取游标与删除记录 "
   ]
  },
  {
   "cell_type": "code",
   "execution_count": 48,
   "metadata": {},
   "outputs": [],
   "source": [
    "import pymysql.cursors\n",
    "import datetime\n",
    " \n",
    "config = {\n",
    "          'host':'127.0.0.1',\n",
    "          'port':3306,\n",
    "          'user':'root',\n",
    "          'password':'',\n",
    "          'db':'employees',\n",
    "          'charset':'utf8',\n",
    "          'cursorclass':pymysql.cursors.DictCursor,\n",
    "          }\n",
    " \n",
    "# Connect to the database\n",
    "conn = pymysql.connect(**config)\n",
    "\n",
    "\n",
    "# 获取雇佣日期\n",
    "hire_start = datetime.date(1999, 1, 1)\n",
    "hire_end = datetime.date(2016, 12, 31)\n",
    " \n",
    "# 执行sql语句\n",
    "try:\n",
    "    with conn.cursor() as cursor:\n",
    "        # 执行sql语句，进行查询\n",
    "        sql = 'delete from employees where emp_no = %s'\n",
    "        t =  (100)\n",
    "        cursor.execute(sql, t)\n",
    "    # 没有设置默认自动提交，需要主动提交，以保存所执行的语句\n",
    "    conn.commit()\n",
    " \n",
    "finally:\n",
    "    conn.close();"
   ]
  },
  {
   "cell_type": "markdown",
   "metadata": {},
   "source": [
    "## 4. 获取游标与查询记录"
   ]
  },
  {
   "cell_type": "code",
   "execution_count": 50,
   "metadata": {},
   "outputs": [
    {
     "name": "stdout",
     "output_type": "stream",
     "text": [
      "{'first_name': 'Lillian', 'last_name': 'Haddadi', 'hire_date': datetime.date(1999, 4, 30)}\n"
     ]
    }
   ],
   "source": [
    "import pymysql.cursors\n",
    "import datetime\n",
    " \n",
    "config = {\n",
    "          'host':'127.0.0.1',\n",
    "          'port':3306,\n",
    "          'user':'root',\n",
    "          'password':'',\n",
    "          'db':'employees',\n",
    "          'charset':'utf8',\n",
    "          'cursorclass':pymysql.cursors.DictCursor,\n",
    "          }\n",
    " \n",
    "# Connect to the database\n",
    "conn = pymysql.connect(**config)\n",
    "\n",
    "\n",
    "# 获取雇佣日期\n",
    "hire_start = datetime.date(1999, 1, 1)\n",
    "hire_end = datetime.date(2016, 12, 31)\n",
    " \n",
    "# 执行sql语句\n",
    "try:\n",
    "    with conn.cursor() as cursor:\n",
    "        # 执行sql语句，进行查询\n",
    "        sql = 'SELECT first_name, last_name, hire_date FROM employees WHERE hire_date BETWEEN %s AND %s'\n",
    "        t =  (hire_start, hire_end)\n",
    "        cursor.execute(sql, t)\n",
    "        # 获取查询结果\n",
    "        result = cursor.fetchone()\n",
    "        print(result)\n",
    "    # 没有设置默认自动提交，需要主动提交，以保存所执行的语句\n",
    "    #conn.commit()\n",
    " \n",
    "finally:\n",
    "    conn.close();"
   ]
  },
  {
   "cell_type": "markdown",
   "metadata": {},
   "source": [
    "## 5. 获取游标与修改记录"
   ]
  },
  {
   "cell_type": "code",
   "execution_count": 49,
   "metadata": {},
   "outputs": [],
   "source": [
    "import pymysql.cursors\n",
    "import datetime\n",
    " \n",
    "config = {\n",
    "          'host':'127.0.0.1',\n",
    "          'port':3306,\n",
    "          'user':'root',\n",
    "          'password':'',\n",
    "          'db':'employees',\n",
    "          'charset':'utf8',\n",
    "          'cursorclass':pymysql.cursors.DictCursor,\n",
    "          }\n",
    " \n",
    "# Connect to the database\n",
    "conn = pymysql.connect(**config)\n",
    "\n",
    "\n",
    "# 获取雇佣日期\n",
    "hire_start = datetime.date(1999, 1, 1)\n",
    "hire_end = datetime.date(2016, 12, 31)\n",
    " \n",
    "# 执行sql语句\n",
    "try:\n",
    "    with conn.cursor() as cursor:\n",
    "        # 执行sql语句，进行查询\n",
    "        sql = 'update employees set last_name = %s where emp_no = %s'\n",
    "        t =  ('Lee','1001')\n",
    "        cursor.execute(sql, t)\n",
    "\n",
    "    # 没有设置默认自动提交，需要主动提交，以保存所执行的语句\n",
    "    conn.commit()\n",
    " \n",
    "finally:\n",
    "    conn.close();"
   ]
  },
  {
   "cell_type": "code",
   "execution_count": null,
   "metadata": {},
   "outputs": [],
   "source": []
  }
 ],
 "metadata": {
  "kernelspec": {
   "display_name": "Python 3",
   "language": "python",
   "name": "python3"
  },
  "language_info": {
   "codemirror_mode": {
    "name": "ipython",
    "version": 3
   },
   "file_extension": ".py",
   "mimetype": "text/x-python",
   "name": "python",
   "nbconvert_exporter": "python",
   "pygments_lexer": "ipython3",
   "version": "3.7.0"
  }
 },
 "nbformat": 4,
 "nbformat_minor": 2
}
