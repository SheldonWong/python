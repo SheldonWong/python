{
 "cells": [
  {
   "cell_type": "code",
   "execution_count": 49,
   "metadata": {},
   "outputs": [
    {
     "name": "stdout",
     "output_type": "stream",
     "text": [
      "[[0.44463590300429245, 0.011998301788479382, 0.38872802680783336, 0.30673422826655816], [0.06324233775079346, 0.7029497275567136, 0.8665771420885794, 0.7451234516295151], [0.7862617616703629, 0.6183104792250189, 0.4839315053013751, 0.19682137499638286]]\n",
      "0.7029497275567136\n"
     ]
    }
   ],
   "source": [
    "import numpy as np \n",
    "\n",
    "\n",
    "l1 = [1,2,3,4]\n",
    "l2 = np.random.rand(3,4).tolist()\n",
    "print(l2)\n",
    "print(l2[1][1])"
   ]
  },
  {
   "cell_type": "markdown",
   "metadata": {},
   "source": [
    "### 一维数组-np.ndarray"
   ]
  },
  {
   "cell_type": "code",
   "execution_count": 2,
   "metadata": {},
   "outputs": [
    {
     "name": "stdout",
     "output_type": "stream",
     "text": [
      "[12 23 33 46]\n"
     ]
    }
   ],
   "source": [
    "import numpy as np\n",
    "a_l = [12,23,33,46]\n",
    "a_array = np.array(a_l)\n",
    "print(a_array)"
   ]
  },
  {
   "cell_type": "code",
   "execution_count": 8,
   "metadata": {},
   "outputs": [
    {
     "name": "stdout",
     "output_type": "stream",
     "text": [
      "[33]\n",
      "元素类型: int64\n",
      "平均值：28.5\n",
      "标准差：12.539936203984453\n",
      "[ 48  92 132 184]\n"
     ]
    }
   ],
   "source": [
    "### 索引，切片，元素类型，\n",
    "### 标准差，平均数 ，和向量\n",
    "\n",
    "# 根据索引查询\n",
    "e = a_array[0]\n",
    "\n",
    "# 切片\n",
    "b_array = a_array[2:3]\n",
    "print(b_array)\n",
    "\n",
    "# 元素类型\n",
    "print('元素类型: {}'.format(a_array.dtype))\n",
    "\n",
    "# 平均值\n",
    "print('平均值：{}'.format(a_array.mean()))\n",
    "\n",
    "# 标准差\n",
    "print('标准差：{}'.format(a_array.std()))\n",
    "\n",
    "#运算,作用于每个元素\n",
    "c = a_array * 4\n",
    "print(c)"
   ]
  },
  {
   "cell_type": "markdown",
   "metadata": {},
   "source": [
    "### pandas一维数组-Series"
   ]
  },
  {
   "cell_type": "code",
   "execution_count": 10,
   "metadata": {},
   "outputs": [
    {
     "name": "stdout",
     "output_type": "stream",
     "text": [
      "腾讯            54.74\n",
      "阿里巴巴         190.90\n",
      "苹果           173.14\n",
      "谷歌          1050.30\n",
      "Facebook     181.86\n",
      "Amazon      1139.49\n",
      "dtype: float64\n"
     ]
    }
   ],
   "source": [
    "import pandas as pd\n",
    "\n",
    "stock = pd.Series([54.74, 190.9, 173.14, 1050.3, 181.86, 1139.49], index = ['腾讯', '阿里巴巴','苹果','谷歌','Facebook','Amazon'])\n",
    "print(stock)"
   ]
  },
  {
   "cell_type": "code",
   "execution_count": 12,
   "metadata": {},
   "outputs": [
    {
     "name": "stdout",
     "output_type": "stream",
     "text": [
      "1050.3\n",
      "1050.3\n",
      "181.86\n"
     ]
    }
   ],
   "source": [
    "# 所以说pd有一套命名的索引，也有一套数字索引。。。\n",
    "# 1. 索引\n",
    "print(stock.iloc[3])\n",
    "print(stock[3])\n",
    "# 2. 根据index\n",
    "print(stock.loc['Facebook'])"
   ]
  },
  {
   "cell_type": "code",
   "execution_count": 13,
   "metadata": {},
   "outputs": [
    {
     "name": "stdout",
     "output_type": "stream",
     "text": [
      "a    12.0\n",
      "b    24.0\n",
      "c     NaN\n",
      "d     NaN\n",
      "e     NaN\n",
      "f     NaN\n",
      "dtype: float64\n"
     ]
    }
   ],
   "source": [
    "# 3. 向量运算，索引相同才能相加\n",
    "a_s = pd.Series([1,2,3,4], index=['a','b','c','d'])\n",
    "b_s = pd.Series([11,22,33,44], index=['a','b','e','f'])\n",
    "c_s = a_s + b_s \n",
    "print(c_s)"
   ]
  },
  {
   "cell_type": "code",
   "execution_count": 16,
   "metadata": {
    "scrolled": true
   },
   "outputs": [
    {
     "name": "stdout",
     "output_type": "stream",
     "text": [
      "a    12.0\n",
      "b    24.0\n",
      "dtype: float64\n",
      "填充NaN\n",
      "a    12.0\n",
      "b    24.0\n",
      "c     0.0\n",
      "d     0.0\n",
      "e     0.0\n",
      "f     0.0\n",
      "dtype: float64\n"
     ]
    }
   ],
   "source": [
    "# NaN数据处理\n",
    "\n",
    "# 清除NaN\n",
    "print(c_s.dropna())\n",
    "# 用某个值填充NaN\n",
    "print('填充NaN')\n",
    "print(c_s.fillna(0))"
   ]
  },
  {
   "cell_type": "markdown",
   "metadata": {},
   "source": [
    "### numpy二维数组\n"
   ]
  },
  {
   "cell_type": "code",
   "execution_count": 52,
   "metadata": {},
   "outputs": [
    {
     "name": "stdout",
     "output_type": "stream",
     "text": [
      "[[ 1  2  3  4]\n",
      " [ 5  6  7  8]\n",
      " [ 9 10 11 12]]\n",
      "11\n",
      "11\n",
      "最后一列：[ 9 10 11 12]\n",
      "[ 2.5  6.5 10.5]\n",
      "[5. 6. 7. 8.]\n"
     ]
    }
   ],
   "source": [
    "# 定义\n",
    "a =np.array([ [1,2,3,4],\n",
    "                    [5,6,7,8],\n",
    "                    [9,10,11,12] ])\n",
    "print(a)\n",
    "\n",
    "# 索引\n",
    "# TypeError: list indices must be integers or slices, not tuple, list 不能用\n",
    "print(a[2,2])\n",
    "print(a[2][2])\n",
    "\n",
    "# 取最后一列\n",
    "print('最后一列：{}'.format(a[:][-1]))\n",
    "\n",
    "# NumPy数轴参数 axis按轴计算平均数 1表示行，0表示 列\n",
    "# 按行轴计算平均数 \n",
    "print(a.mean(axis=1))\n",
    "# 按列 计算 平均数 \n",
    "print(a.mean(axis=0))\n"
   ]
  },
  {
   "cell_type": "markdown",
   "metadata": {},
   "source": [
    "### pandas二维数组-DataFrame"
   ]
  },
  {
   "cell_type": "code",
   "execution_count": 27,
   "metadata": {},
   "outputs": [
    {
     "name": "stdout",
     "output_type": "stream",
     "text": [
      "             购药时间        社保卡号    商品编码     商品名称  销售数量  应收金额   实收金额\n",
      "0  2018-01-01 星期五   001616528  236701  强力VC银翘片     6  82.8  69.00\n",
      "1  2018-01-02 星期六   001616528  236701  清热解毒口服液     1  28.0  24.64\n",
      "2  2018-01-06 星期三  0012602828  236701       感康     2  16.8  15.00\n",
      "236701\n",
      "购药时间    2018-01-01 星期五\n",
      "社保卡号         001616528\n",
      "商品编码            236701\n",
      "商品名称           强力VC银翘片\n",
      "销售数量                 6\n",
      "应收金额              82.8\n",
      "实收金额                69\n",
      "Name: 0, dtype: object\n",
      "0    2018-01-01 星期五\n",
      "1    2018-01-02 星期六\n",
      "2    2018-01-06 星期三\n",
      "Name: 购药时间, dtype: object\n",
      "             购药时间       社保卡号    商品编码     商品名称  销售数量  应收金额  实收金额\n",
      "0  2018-01-01 星期五  001616528  236701  强力VC银翘片     6  82.8  69.0\n"
     ]
    }
   ],
   "source": [
    "salesDict={    '购药时间':['2018-01-01 星期五','2018-01-02 星期六','2018-01-06 星期三'],   \n",
    "                   '社保卡号':['001616528','001616528','0012602828'],    \n",
    "                   '商品编码':[236701,236701,236701],   \n",
    "                   '商品名称':['强力VC银翘片','清热解毒口服液','感康'],    \n",
    "                   '销售数量':[6,1,2],    \n",
    "                   '应收金额':[82.8,28,16.8],    \n",
    "                   '实收金额':[69,24.64,15] }\n",
    "# 建立 导入有序字典 \n",
    "from collections import OrderedDict \n",
    "#定义有序字典\n",
    "salesOrderDict = OrderedDict(salesDict)\n",
    "saleDataFrame =pd.DataFrame(salesOrderDict)\n",
    "\n",
    "print(saleDataFrame)\n",
    "\n",
    "# 根据下标查询\n",
    "# 筛选某一行\n",
    "print(saleDataFrame.iloc[1,2])\n",
    "# 查询第一行所有列 \n",
    "print(saleDataFrame.iloc[0,:])\n",
    "# 查询第一列所有行 \n",
    "print(saleDataFrame.iloc[:,0])\n",
    "\n",
    "print(saleDataFrame[:1])\n",
    "\n",
    "\n",
    "\n"
   ]
  },
  {
   "cell_type": "code",
   "execution_count": 44,
   "metadata": {
    "scrolled": true
   },
   "outputs": [
    {
     "name": "stdout",
     "output_type": "stream",
     "text": [
      "236701\n",
      "=========================\n",
      "购药时间    2018-01-01 星期五\n",
      "社保卡号         001616528\n",
      "商品编码            236701\n",
      "商品名称           强力VC银翘片\n",
      "销售数量                 6\n",
      "应收金额              82.8\n",
      "实收金额                69\n",
      "Name: 0, dtype: object\n",
      "=========================\n",
      "0    6\n",
      "1    1\n",
      "2    2\n",
      "Name: 销售数量, dtype: int64\n",
      "=========================\n",
      "0    6\n",
      "1    1\n",
      "2    2\n",
      "Name: 销售数量, dtype: int64\n",
      "=========================\n",
      "      商品名称  销售数量\n",
      "0  强力VC银翘片     6\n",
      "1  清热解毒口服液     1\n",
      "2       感康     2\n",
      "=========================\n",
      "      商品名称  销售数量\n",
      "0  强力VC银翘片     6\n",
      "1  清热解毒口服液     1\n",
      "2       感康     2\n",
      "=========================\n",
      "0     True\n",
      "1    False\n",
      "2     True\n",
      "Name: 销售数量, dtype: bool\n",
      "=========================\n",
      "(3, 7)\n",
      "=========================\n",
      "Index(['购药时间', '社保卡号', '商品编码', '商品名称', '销售数量', '应收金额', '实收金额'], dtype='object')\n",
      "RangeIndex(start=0, stop=3, step=1)\n",
      "=========================\n",
      "[['2018-01-01 星期五' '001616528' 236701 '强力VC银翘片' 6 82.8 69.0]\n",
      " ['2018-01-02 星期六' '001616528' 236701 '清热解毒口服液' 1 28.0 24.64]\n",
      " ['2018-01-06 星期三' '0012602828' 236701 '感康' 2 16.8 15.0]]\n",
      "<class 'numpy.ndarray'>\n"
     ]
    }
   ],
   "source": [
    "# 查询第0行的 商品编码的列 \n",
    "print(saleDataFrame.loc[0,'商品编码'])\n",
    "print('='*25)\n",
    "\n",
    "# 查询第0行的所有列 ,Series  \n",
    "print(saleDataFrame.loc[0,:])\n",
    "print('='*25)\n",
    "\n",
    "#  查询销售数量列的所有行 \n",
    "print(saleDataFrame.loc[:,'销售数量'] )\n",
    "print('='*25)\n",
    "\n",
    "#上述 简便方法 \n",
    "print(saleDataFrame['销售数量'])\n",
    "print('='*25)\n",
    "\n",
    "#查询某几列  \n",
    "saleList =['商品名称','销售数量']\n",
    "print(saleDataFrame[saleList])\n",
    "print('='*25)\n",
    "\n",
    "#通过切片功能指定范围的列  \n",
    "print(saleDataFrame.loc[: ,'商品名称':'销售数量'])\n",
    "print('='*25)\n",
    "\n",
    "#条件查询 销售数量大于的1 的查询  \n",
    "print(saleDataFrame.loc[:,'销售数量']>1)\n",
    "print('='*25)\n",
    "\n",
    "#查询数据框的 多少行 多少列  \n",
    "print(saleDataFrame.shape)\n",
    "\n",
    "print('='*25)\n",
    "print(saleDataFrame.columns)\n",
    "\n",
    "print(saleDataFrame.index)\n",
    "print('='*25)\n",
    "print(saleDataFrame.values)\n",
    "print(type(saleDataFrame.values))"
   ]
  },
  {
   "cell_type": "code",
   "execution_count": 2,
   "metadata": {},
   "outputs": [
    {
     "name": "stdout",
     "output_type": "stream",
     "text": [
      "   f1  f2  true  pred\n",
      "0   0   0     0     1\n",
      "1   1   1     0     1\n",
      "2   1   1     0     0\n",
      "3   2   2     0     0\n",
      "[False, False, True, True]\n",
      "[0, 1]\n",
      "   f1  f2  true  pred\n",
      "0   0   0     0     1\n",
      "1   1   1     0     1\n",
      "   f1  f2  true  pred\n",
      "2   1   1     0     0\n",
      "3   2   2     0     0\n",
      "   f1  f2  true  pred\n",
      "2   1   1     0     0\n",
      "3   2   2     0     0\n"
     ]
    }
   ],
   "source": [
    "import pandas as pd\n",
    "### pandas两个列值不等的筛选，主要是为了筛选bad case，也就是把true != pred的case挑选出来, 并进行分析\n",
    "\n",
    "l = [[0,0,0,1],[1,1,0,1],[1,1,0,0],[2,2,0,0]]\n",
    "columns = ['f1','f2','true','pred']\n",
    "l_df = pd.DataFrame(l,columns=columns)\n",
    "print(l_df)\n",
    "b = l_df['true'] == l_df['pred']\n",
    "b_l = list(b)\n",
    "print(b_l)\n",
    "index_l = [i for i in range(len(b_l)) if b_l[i] == False]\n",
    "print(index_l)\n",
    "print(l_df.iloc[index_l])\n",
    "\n",
    "print(l_df[[False, False, True, True]])\n",
    "print(l_df[ l_df['true'] == l_df['pred'] ])"
   ]
  },
  {
   "cell_type": "markdown",
   "metadata": {},
   "source": [
    "### 结论\n",
    "\n",
    "对于二维数组，python自带的list只能按行取，按照列取需要一定的操作\n",
    "例如，取二维数组的最后一列\n",
    "class = [example[-1] fo example in dataset]\n",
    "取numpy的最后一列\n",
    "\n",
    "取df的最后一列\n",
    "\n",
    "|        | 索引          |   条件     |      |\n",
    "|----|----------|---------|-------|\n",
    "|list一维数组索引   | [1]   |         | 0.897s|\n",
    "|list二维数组索引   | [1][2]    |         | 24.15s|\n",
    "|np一维数组索引  | [1]     |         | 34.48s|\n",
    "|np二维数组索引 | [1][2]  [1,2]    |         | 62.53s|\n",
    "|np二维数组索引|.iloc[1,2] |           |"
   ]
  },
  {
   "cell_type": "code",
   "execution_count": 12,
   "metadata": {},
   "outputs": [
    {
     "name": "stdout",
     "output_type": "stream",
     "text": [
      "   data\n",
      "0     1\n",
      "1     2\n",
      "2     3\n",
      "3     4\n",
      "   data\n",
      "0     5\n",
      "1     6\n",
      "2     7\n",
      "3     8\n",
      "<class 'numpy.ndarray'>\n",
      "[1 2 3 4 5 6 7 8]\n"
     ]
    }
   ],
   "source": [
    "#拼接df的数据，数据格式是numpy\n",
    "import pandas as pd \n",
    "import numpy as np \n",
    "\n",
    "test_df = pd.DataFrame(columns = ['data'])\n",
    "test_df['data'] = [1,2,3,4]\n",
    "print(test_df)\n",
    "\n",
    "test_df2 = pd.DataFrame(columns = ['data'])\n",
    "test_df2['data'] = [5,6,7,8]\n",
    "print(test_df2)\n",
    "\n",
    "a = test_df['data'].values\n",
    "b = test_df2['data'].values\n",
    "\n",
    "print(type(test_df['data'].values))\n",
    "print(np.hstack((a,b)))"
   ]
  },
  {
   "cell_type": "code",
   "execution_count": null,
   "metadata": {},
   "outputs": [],
   "source": []
  }
 ],
 "metadata": {
  "kernelspec": {
   "display_name": "Python 3",
   "language": "python",
   "name": "python3"
  },
  "language_info": {
   "codemirror_mode": {
    "name": "ipython",
    "version": 3
   },
   "file_extension": ".py",
   "mimetype": "text/x-python",
   "name": "python",
   "nbconvert_exporter": "python",
   "pygments_lexer": "ipython3",
   "version": "3.6.3"
  }
 },
 "nbformat": 4,
 "nbformat_minor": 2
}
