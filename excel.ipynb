{
 "cells": [
  {
   "cell_type": "markdown",
   "metadata": {},
   "source": [
    "# 使用openpyxl操作excel\n",
    "\n",
    "## 简介 \n",
    "- 读excel\n",
    "- 写excel\n",
    "- 官方文档：https://openpyxl.readthedocs.io/en/stable/\n",
    "- 参考文档：http://www.cnblogs.com/sun-haiyu/p/7096423.html\n",
    "\n",
    "## 概念\n",
    "WorkBook：excel文件流\n",
    "sheet：表格对象\n",
    "cell：单元格\n",
    "\n",
    "## 工作流程\n",
    "### 读表\n",
    "```python\n",
    "from openpyxl import Workbook\n",
    "wb = Workbook()\n",
    "# grab the active worksheet\n",
    "ws = wb.active\n",
    "# Data can be assigned directly to cells\n",
    "ws['A1'] = 42\n",
    "# Save the file\n",
    "wb.save(\"sample.xlsx\")\n",
    "```\n",
    "### 写表\n",
    "```python\n",
    "from openpyxl import load_workbook\n",
    "\n",
    "# 默认可读写，若有需要可以指定write_only和read_only为True\n",
    "wb = load_workbook('mainbuilding33.xlsx')\n",
    "# 根据sheet名字获得sheet\n",
    "a_sheet = wb.get_sheet_by_name('Sheet1')\n",
    "# 获得当前活动的sheet, 也可以用wb.get_active_sheet()\n",
    "sheet = wb.active \n",
    "# 获取某个单元格的值，观察excel发现也是先字母再数字的顺序，即先列再行\n",
    "b4 = sheet['B4']\n",
    "# 分别返回\n",
    "print(f'({b4.column}, {b4.row}) is {b4.value}')  # 返回的数字就是int型\n",
    "\n",
    "# 除了用下标的方式获得，还可以用cell函数, 换成数字，这个表示B4\n",
    "b4_too = sheet.cell(row=4, column=2)\n",
    "print(b4_too.value)\n",
    "```\n"
   ]
  }
 ],
 "metadata": {
  "kernelspec": {
   "display_name": "Python 3",
   "language": "python",
   "name": "python3"
  },
  "language_info": {
   "codemirror_mode": {
    "name": "ipython",
    "version": 3
   },
   "file_extension": ".py",
   "mimetype": "text/x-python",
   "name": "python",
   "nbconvert_exporter": "python",
   "pygments_lexer": "ipython3",
   "version": "3.7.0"
  }
 },
 "nbformat": 4,
 "nbformat_minor": 2
}
