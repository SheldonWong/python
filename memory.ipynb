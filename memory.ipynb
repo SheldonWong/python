{
 "cells": [
  {
   "cell_type": "code",
   "execution_count": 2,
   "metadata": {},
   "outputs": [
    {
     "name": "stdout",
     "output_type": "stream",
     "text": [
      "28\n"
     ]
    }
   ],
   "source": [
    "import sys\n",
    "a = 2\n",
    "m1 = sys.getsizeof(a)\n",
    "print(m1)"
   ]
  },
  {
   "cell_type": "markdown",
   "metadata": {},
   "source": [
    "- Empty\n",
    "- Bytes  type        scaling notes\n",
    "- 28     int         +4 bytes about every 30 powers of 2\n",
    "- 37     bytes       +1 byte per additional byte\n",
    "- 49     str         +1-4 per additional character (depending on max width)\n",
    "- 48     tuple       +8 per additional item\n",
    "- 64     list        +8 for each additional\n",
    "- 224    set         5th increases to 736; 21nd, 2272; 85th, 8416; 341, 32992\n",
    "- 240    dict        6th increases to 368; 22nd, 1184; 43rd, 2280; 86th, 4704; 171st, 9320\n",
    "- 136    func def    doesn't include default args and other attrs\n",
    "- 1056   class def   no slots \n",
    "- 56     class inst  has a __dict__ attr, same scaling as dict above\n",
    "- 888    class def   with slots\n",
    "- 16     __slots__   seems to store in mutable tuple-like structure\n",
    "                   first slot grows to 48, and so on."
   ]
  },
  {
   "cell_type": "code",
   "execution_count": 5,
   "metadata": {},
   "outputs": [
    {
     "name": "stdout",
     "output_type": "stream",
     "text": [
      "[1 2 3 4]\n"
     ]
    }
   ],
   "source": [
    "import numpy as np\n",
    "\n",
    "a = np.array([1,2,3,4])\n",
    "print(a)"
   ]
  },
  {
   "cell_type": "code",
   "execution_count": null,
   "metadata": {},
   "outputs": [],
   "source": []
  }
 ],
 "metadata": {
  "kernelspec": {
   "display_name": "Python 3",
   "language": "python",
   "name": "python3"
  },
  "language_info": {
   "codemirror_mode": {
    "name": "ipython",
    "version": 3
   },
   "file_extension": ".py",
   "mimetype": "text/x-python",
   "name": "python",
   "nbconvert_exporter": "python",
   "pygments_lexer": "ipython3",
   "version": "3.6.3"
  }
 },
 "nbformat": 4,
 "nbformat_minor": 2
}
